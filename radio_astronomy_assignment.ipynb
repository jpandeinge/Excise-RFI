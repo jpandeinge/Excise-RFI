{
 "cells": [
  {
   "cell_type": "markdown",
   "id": "999d916d-c7b4-4889-aabd-af5823e88412",
   "metadata": {},
   "source": [
    "### 3.Calculation of RFI\n",
    "\n",
    "\n",
    "We get  [RFI sources](https://science.nrao.edu/facilities/vla/observing/RFI/L-Band) for the the L-Band from the website.\n",
    "\n",
    "**Note:** The RFIs with lower and upper frequencies have been splitted into two separate columns. \n",
    "\n",
    "We would save the the RFI on the website in a CSV file and do basic data cleaning."
   ]
  },
  {
   "cell_type": "code",
   "execution_count": 1,
   "id": "494cf6f3",
   "metadata": {},
   "outputs": [],
   "source": [
    "#import packages\n",
    "import math\n",
    "import numpy as np\n",
    "import pandas as pd\n",
    "import matplotlib.pylab as plt\n",
    "\n",
    "from astropy import units as u\n",
    "from astropy import constants as const\n",
    "\n",
    "from sklearn import model_selection\n",
    "\n",
    "import warnings\n",
    "warnings.filterwarnings(\"ignore\", category=DeprecationWarning)\n",
    "warnings.filterwarnings(\"ignore\", category=np.VisibleDeprecationWarning) \n",
    "\n",
    "%matplotlib inline"
   ]
  },
  {
   "cell_type": "code",
   "execution_count": 2,
   "id": "64a10763-f56e-4e95-84f4-c2f17a8d1b94",
   "metadata": {},
   "outputs": [
    {
     "data": {
      "text/html": [
       "<div>\n",
       "<style scoped>\n",
       "    .dataframe tbody tr th:only-of-type {\n",
       "        vertical-align: middle;\n",
       "    }\n",
       "\n",
       "    .dataframe tbody tr th {\n",
       "        vertical-align: top;\n",
       "    }\n",
       "\n",
       "    .dataframe thead th {\n",
       "        text-align: right;\n",
       "    }\n",
       "</style>\n",
       "<table border=\"1\" class=\"dataframe\">\n",
       "  <thead>\n",
       "    <tr style=\"text-align: right;\">\n",
       "      <th></th>\n",
       "      <th>Frequency</th>\n",
       "      <th>Description</th>\n",
       "      <th>Origin</th>\n",
       "      <th>Classification</th>\n",
       "    </tr>\n",
       "  </thead>\n",
       "  <tbody>\n",
       "    <tr>\n",
       "      <th>0</th>\n",
       "      <td>1000</td>\n",
       "      <td>RATSCAT Low FQ</td>\n",
       "      <td>NM, WSMR</td>\n",
       "      <td>Intermittent</td>\n",
       "    </tr>\n",
       "    <tr>\n",
       "      <th>1</th>\n",
       "      <td>1030</td>\n",
       "      <td>Aeronautical IFF, gnd2air</td>\n",
       "      <td>OHD, Everywhere</td>\n",
       "      <td>Intermittent</td>\n",
       "    </tr>\n",
       "    <tr>\n",
       "      <th>2</th>\n",
       "      <td>1025-1150</td>\n",
       "      <td>Aircraft navigation DME</td>\n",
       "      <td>DME/VOR sites</td>\n",
       "      <td>intermittent</td>\n",
       "    </tr>\n",
       "    <tr>\n",
       "      <th>3</th>\n",
       "      <td>1090</td>\n",
       "      <td>Aeronautical IFF, air2gnd</td>\n",
       "      <td>OHD, Everywhere</td>\n",
       "      <td>Intermittent</td>\n",
       "    </tr>\n",
       "    <tr>\n",
       "      <th>4</th>\n",
       "      <td>1166-1186</td>\n",
       "      <td>GPS,Galileo,GLONASS L5</td>\n",
       "      <td>OHD, MEO</td>\n",
       "      <td>Continuous</td>\n",
       "    </tr>\n",
       "  </tbody>\n",
       "</table>\n",
       "</div>"
      ],
      "text/plain": [
       "   Frequency                Description           Origin Classification\n",
       "0       1000             RATSCAT Low FQ         NM, WSMR   Intermittent\n",
       "1       1030  Aeronautical IFF, gnd2air  OHD, Everywhere   Intermittent\n",
       "2  1025-1150    Aircraft navigation DME    DME/VOR sites   intermittent\n",
       "3       1090  Aeronautical IFF, air2gnd  OHD, Everywhere   Intermittent\n",
       "4  1166-1186     GPS,Galileo,GLONASS L5         OHD, MEO     Continuous"
      ]
     },
     "execution_count": 2,
     "metadata": {},
     "output_type": "execute_result"
    }
   ],
   "source": [
    "rfi_data = pd.read_csv('vla_RFI.csv')\n",
    "rfi_data.head()"
   ]
  },
  {
   "cell_type": "code",
   "execution_count": 3,
   "id": "662663be-aa3f-4d9e-9446-a3bc99000a72",
   "metadata": {},
   "outputs": [],
   "source": [
    "# drop the Unnamed: 4 column\n",
    "# rfi_data.drop(columns=['Unnamed: 4'], inplace=True)\n",
    "\n",
    "# check for empty values in the dataframe\n",
    "rfi_data.isnull().values.any()\n",
    "\n",
    "# fill empty values with \"NA\"\n",
    "rfi_data.fillna('NA',inplace=True)\n",
    "\n",
    "# convert all the values in the classsificalion column to lower case\n",
    "rfi_data['Classification'] = rfi_data['Classification'].str.lower()\n",
    "# check if there is a hyphen in the frequency column then split the frequency column into two columns,\n",
    "# start_freq and end_freq, in the case where there is no hyphen then the start_freq and end_freq will be the same\n",
    "rfi_data['start_freq'] = rfi_data['Frequency'].str.split('-').str[0].astype(float)\n",
    "rfi_data['end_freq'] = rfi_data['Frequency'].str.split('-').str[1].astype(float)\n",
    "\n",
    "# fill the end_freq column with NA values with the start_freq column values\n",
    "rfi_data['end_freq'].fillna(rfi_data['start_freq'], inplace=True)\n",
    "\n",
    "# get a 2D array of the start_freq and end_freq columns\n",
    "freq_range = rfi_data[['start_freq','end_freq']].values\n"
   ]
  },
  {
   "cell_type": "code",
   "execution_count": 4,
   "id": "26c2cd8d-9805-467e-a672-9ec05bdf42d1",
   "metadata": {},
   "outputs": [
    {
     "data": {
      "text/plain": [
       "Index([], dtype='object')"
      ]
     },
     "execution_count": 4,
     "metadata": {},
     "output_type": "execute_result"
    }
   ],
   "source": [
    "# get column names with empty values\n",
    "rfi_data.columns[rfi_data.isnull().any()]"
   ]
  },
  {
   "cell_type": "markdown",
   "id": "84897972-ac01-42fc-8453-2ff753194541",
   "metadata": {},
   "source": [
    "There are no longer columns with empty values. All the columns that had empty values, i.e., `Origin` and `Classification` columns have been filled with `NA`.\n",
    "\n",
    "\n",
    "Now lets have a look at the header of our data after the modifications we have made."
   ]
  },
  {
   "cell_type": "code",
   "execution_count": 5,
   "id": "4c108fe6-3284-41e5-bfb4-88993d03713b",
   "metadata": {},
   "outputs": [
    {
     "data": {
      "text/html": [
       "<div>\n",
       "<style scoped>\n",
       "    .dataframe tbody tr th:only-of-type {\n",
       "        vertical-align: middle;\n",
       "    }\n",
       "\n",
       "    .dataframe tbody tr th {\n",
       "        vertical-align: top;\n",
       "    }\n",
       "\n",
       "    .dataframe thead th {\n",
       "        text-align: right;\n",
       "    }\n",
       "</style>\n",
       "<table border=\"1\" class=\"dataframe\">\n",
       "  <thead>\n",
       "    <tr style=\"text-align: right;\">\n",
       "      <th></th>\n",
       "      <th>Frequency</th>\n",
       "      <th>Description</th>\n",
       "      <th>Origin</th>\n",
       "      <th>Classification</th>\n",
       "      <th>start_freq</th>\n",
       "      <th>end_freq</th>\n",
       "    </tr>\n",
       "  </thead>\n",
       "  <tbody>\n",
       "    <tr>\n",
       "      <th>0</th>\n",
       "      <td>1000</td>\n",
       "      <td>RATSCAT Low FQ</td>\n",
       "      <td>NM, WSMR</td>\n",
       "      <td>intermittent</td>\n",
       "      <td>1000.0</td>\n",
       "      <td>1000.0</td>\n",
       "    </tr>\n",
       "    <tr>\n",
       "      <th>1</th>\n",
       "      <td>1030</td>\n",
       "      <td>Aeronautical IFF, gnd2air</td>\n",
       "      <td>OHD, Everywhere</td>\n",
       "      <td>intermittent</td>\n",
       "      <td>1030.0</td>\n",
       "      <td>1030.0</td>\n",
       "    </tr>\n",
       "    <tr>\n",
       "      <th>2</th>\n",
       "      <td>1025-1150</td>\n",
       "      <td>Aircraft navigation DME</td>\n",
       "      <td>DME/VOR sites</td>\n",
       "      <td>intermittent</td>\n",
       "      <td>1025.0</td>\n",
       "      <td>1150.0</td>\n",
       "    </tr>\n",
       "    <tr>\n",
       "      <th>3</th>\n",
       "      <td>1090</td>\n",
       "      <td>Aeronautical IFF, air2gnd</td>\n",
       "      <td>OHD, Everywhere</td>\n",
       "      <td>intermittent</td>\n",
       "      <td>1090.0</td>\n",
       "      <td>1090.0</td>\n",
       "    </tr>\n",
       "    <tr>\n",
       "      <th>4</th>\n",
       "      <td>1166-1186</td>\n",
       "      <td>GPS,Galileo,GLONASS L5</td>\n",
       "      <td>OHD, MEO</td>\n",
       "      <td>continuous</td>\n",
       "      <td>1166.0</td>\n",
       "      <td>1186.0</td>\n",
       "    </tr>\n",
       "  </tbody>\n",
       "</table>\n",
       "</div>"
      ],
      "text/plain": [
       "   Frequency                Description           Origin Classification  \\\n",
       "0       1000             RATSCAT Low FQ         NM, WSMR   intermittent   \n",
       "1       1030  Aeronautical IFF, gnd2air  OHD, Everywhere   intermittent   \n",
       "2  1025-1150    Aircraft navigation DME    DME/VOR sites   intermittent   \n",
       "3       1090  Aeronautical IFF, air2gnd  OHD, Everywhere   intermittent   \n",
       "4  1166-1186     GPS,Galileo,GLONASS L5         OHD, MEO     continuous   \n",
       "\n",
       "   start_freq  end_freq  \n",
       "0      1000.0    1000.0  \n",
       "1      1030.0    1030.0  \n",
       "2      1025.0    1150.0  \n",
       "3      1090.0    1090.0  \n",
       "4      1166.0    1186.0  "
      ]
     },
     "execution_count": 5,
     "metadata": {},
     "output_type": "execute_result"
    }
   ],
   "source": [
    "rfi_data.head()"
   ]
  },
  {
   "cell_type": "code",
   "execution_count": 6,
   "id": "90520a57",
   "metadata": {},
   "outputs": [
    {
     "data": {
      "text/plain": [
       "array([0.29979246, 0.29106064, 0.26068909, 0.27503895, 0.2527761 ,\n",
       "       0.24982705, 0.24502857, 0.24235445, 0.24353571, 0.24300075,\n",
       "       0.24274693, 0.23964225, 0.23935526, 0.2389889 , 0.23751769,\n",
       "       0.23642938, 0.23357418, 0.23221724, 0.23149997, 0.2288492 ,\n",
       "       0.2284133 , 0.22763285, 0.22540786, 0.22418077, 0.22288739,\n",
       "       0.22092296, 0.21962817, 0.21898646, 0.21630047, 0.21645665,\n",
       "       0.21521354, 0.21413747, 0.21292078, 0.2092792 , 0.20632654,\n",
       "       0.20754064, 0.20696752, 0.20639756, 0.20625556, 0.205267  ,\n",
       "       0.19966198, 0.19926385, 0.19781752, 0.19168316, 0.19652079,\n",
       "       0.19600684, 0.19587877, 0.19150928, 0.18902425, 0.1890934 ,\n",
       "       0.18667027, 0.18551513, 0.18426088, 0.18257762, 0.17844789,\n",
       "       0.17770744, 0.17707765, 0.17614128, 0.17541981, 0.16927863,\n",
       "       0.15064948])"
      ]
     },
     "execution_count": 6,
     "metadata": {},
     "output_type": "execute_result"
    }
   ],
   "source": [
    "# add an amplitude column calculated as the speed of light divided by the frequency\n",
    "# I have chose to use the end_freq column because it is the highest frequency\n",
    "rfi_data['amplitude'] = const.c/((rfi_data['end_freq'])*10**6)\n",
    "\n",
    "# get an array of the amplitude column\n",
    "amplitude = rfi_data['amplitude'].values\n",
    "amplitude"
   ]
  },
  {
   "cell_type": "code",
   "execution_count": 7,
   "id": "4380d5b3",
   "metadata": {},
   "outputs": [
    {
     "data": {
      "text/html": [
       "<div>\n",
       "<style scoped>\n",
       "    .dataframe tbody tr th:only-of-type {\n",
       "        vertical-align: middle;\n",
       "    }\n",
       "\n",
       "    .dataframe tbody tr th {\n",
       "        vertical-align: top;\n",
       "    }\n",
       "\n",
       "    .dataframe thead th {\n",
       "        text-align: right;\n",
       "    }\n",
       "</style>\n",
       "<table border=\"1\" class=\"dataframe\">\n",
       "  <thead>\n",
       "    <tr style=\"text-align: right;\">\n",
       "      <th></th>\n",
       "      <th>Frequency</th>\n",
       "      <th>Description</th>\n",
       "      <th>Origin</th>\n",
       "      <th>Classification</th>\n",
       "      <th>start_freq</th>\n",
       "      <th>end_freq</th>\n",
       "      <th>amplitude</th>\n",
       "    </tr>\n",
       "  </thead>\n",
       "  <tbody>\n",
       "    <tr>\n",
       "      <th>0</th>\n",
       "      <td>1000</td>\n",
       "      <td>RATSCAT Low FQ</td>\n",
       "      <td>NM, WSMR</td>\n",
       "      <td>intermittent</td>\n",
       "      <td>1000.0</td>\n",
       "      <td>1000.0</td>\n",
       "      <td>0.299792</td>\n",
       "    </tr>\n",
       "    <tr>\n",
       "      <th>1</th>\n",
       "      <td>1030</td>\n",
       "      <td>Aeronautical IFF, gnd2air</td>\n",
       "      <td>OHD, Everywhere</td>\n",
       "      <td>intermittent</td>\n",
       "      <td>1030.0</td>\n",
       "      <td>1030.0</td>\n",
       "      <td>0.291061</td>\n",
       "    </tr>\n",
       "    <tr>\n",
       "      <th>2</th>\n",
       "      <td>1025-1150</td>\n",
       "      <td>Aircraft navigation DME</td>\n",
       "      <td>DME/VOR sites</td>\n",
       "      <td>intermittent</td>\n",
       "      <td>1025.0</td>\n",
       "      <td>1150.0</td>\n",
       "      <td>0.260689</td>\n",
       "    </tr>\n",
       "    <tr>\n",
       "      <th>3</th>\n",
       "      <td>1090</td>\n",
       "      <td>Aeronautical IFF, air2gnd</td>\n",
       "      <td>OHD, Everywhere</td>\n",
       "      <td>intermittent</td>\n",
       "      <td>1090.0</td>\n",
       "      <td>1090.0</td>\n",
       "      <td>0.275039</td>\n",
       "    </tr>\n",
       "    <tr>\n",
       "      <th>4</th>\n",
       "      <td>1166-1186</td>\n",
       "      <td>GPS,Galileo,GLONASS L5</td>\n",
       "      <td>OHD, MEO</td>\n",
       "      <td>continuous</td>\n",
       "      <td>1166.0</td>\n",
       "      <td>1186.0</td>\n",
       "      <td>0.252776</td>\n",
       "    </tr>\n",
       "  </tbody>\n",
       "</table>\n",
       "</div>"
      ],
      "text/plain": [
       "   Frequency                Description           Origin Classification  \\\n",
       "0       1000             RATSCAT Low FQ         NM, WSMR   intermittent   \n",
       "1       1030  Aeronautical IFF, gnd2air  OHD, Everywhere   intermittent   \n",
       "2  1025-1150    Aircraft navigation DME    DME/VOR sites   intermittent   \n",
       "3       1090  Aeronautical IFF, air2gnd  OHD, Everywhere   intermittent   \n",
       "4  1166-1186     GPS,Galileo,GLONASS L5         OHD, MEO     continuous   \n",
       "\n",
       "   start_freq  end_freq  amplitude  \n",
       "0      1000.0    1000.0   0.299792  \n",
       "1      1030.0    1030.0   0.291061  \n",
       "2      1025.0    1150.0   0.260689  \n",
       "3      1090.0    1090.0   0.275039  \n",
       "4      1166.0    1186.0   0.252776  "
      ]
     },
     "execution_count": 7,
     "metadata": {},
     "output_type": "execute_result"
    }
   ],
   "source": [
    "rfi_data.head()"
   ]
  },
  {
   "cell_type": "code",
   "execution_count": 8,
   "id": "c21084f5-bf56-4715-8040-23624b0a3cc0",
   "metadata": {},
   "outputs": [
    {
     "data": {
      "text/plain": [
       "array(['intermittent', 'continuous', 'pulsed & intermittent',\n",
       "       'malfunction', 'na', 'sporadic'], dtype=object)"
      ]
     },
     "execution_count": 8,
     "metadata": {},
     "output_type": "execute_result"
    }
   ],
   "source": [
    "# correct the classification values of 'pulsed & intermittant' to 'pulsed & intermittent'\n",
    "rfi_data.loc[rfi_data['Classification'] == 'pulsed & intermittant','Classification'] = 'pulsed & intermittent'\n",
    "# check unigue classifications in the dataframe\n",
    "rfi_data['Classification'].unique()"
   ]
  },
  {
   "cell_type": "markdown",
   "id": "47715c00-96e3-417d-840a-9d8bf079fc9e",
   "metadata": {},
   "source": [
    "From the above code cell, we have six unique RFI classification classes namely; \n",
    "\n",
    "1. intermittent\n",
    "2. continuous\n",
    "3. pulsed & intermitted\n",
    "4. malfunction\n",
    "5. na\n",
    "6. sporadic"
   ]
  },
  {
   "cell_type": "code",
   "execution_count": 9,
   "id": "56eb11e1-f8f3-4ec0-947b-3b52b3676bf3",
   "metadata": {},
   "outputs": [
    {
     "data": {
      "text/plain": [
       "array(['intermittent', 'continuous', 'pulsed & intermittent',\n",
       "       'malfunction', 'na', 'sporadic'], dtype=object)"
      ]
     },
     "execution_count": 9,
     "metadata": {},
     "output_type": "execute_result"
    }
   ],
   "source": [
    "# get unique values of the Classification column and store it in a list\n",
    "classifications = rfi_data['Classification'].unique()\n",
    "classifications"
   ]
  },
  {
   "cell_type": "code",
   "execution_count": 10,
   "id": "4155a23f",
   "metadata": {},
   "outputs": [
    {
     "data": {
      "text/plain": [
       "array(['RATSCAT Low FQ', 'Aeronautical IFF, gnd2air',\n",
       "       'Aircraft navigation DME', 'Aeronautical IFF, air2gnd',\n",
       "       'GPS,Galileo,GLONASS L5', 'VLA modem', 'TARS Pulsed radar',\n",
       "       'GPS L2', 'AEROSTAT', 'FAA ARSR4 radar', 'GLONASS L2',\n",
       "       'TARS pulsed radar', 'COMPASS E6', 'FAA ASR radar',\n",
       "       'WSMR RAJPO transponder', 'GPS L3 NUDET', 'internal birdie',\n",
       "       'WSMR telemetry', 'High alt balloon', 'Test telemetry',\n",
       "       'High alt baloon', 'WSMR jamming telemetry', 'INMARSAT satellites',\n",
       "       'GPS L1 jamming', 'GPS L1', 'GLONASS L1', 'IRIDIUM satellites',\n",
       "       '2nd harmonic VLA radios', 'RADIOSONDES- WX baloons',\n",
       "       'GOES weather satellite', 'NOAA weather satellite',\n",
       "       'PCS cell phone base stations'], dtype=object)"
      ]
     },
     "execution_count": 10,
     "metadata": {},
     "output_type": "execute_result"
    }
   ],
   "source": [
    "# get unique values of the Description column and store it in a dictionary\n",
    "descriptions = rfi_data['Description'].unique()\n",
    "descriptions "
   ]
  },
  {
   "cell_type": "code",
   "execution_count": 11,
   "id": "6dd3d923",
   "metadata": {},
   "outputs": [],
   "source": [
    "start_freq_range = rfi_data[['end_freq']].values\n",
    "end_freq_range = rfi_data[['start_freq']].values\n"
   ]
  },
  {
   "cell_type": "code",
   "execution_count": 12,
   "id": "0e77534c",
   "metadata": {},
   "outputs": [],
   "source": [
    "#get all the 'continuous' classifications in the dataframe and their start and end frequencies\n",
    "max_freq = rfi_data[rfi_data['Classification'] == 'intermintent']['end_freq'].max()\n",
    "\n"
   ]
  },
  {
   "cell_type": "code",
   "execution_count": 13,
   "id": "edfca895",
   "metadata": {},
   "outputs": [
    {
     "data": {
      "text/plain": [
       "nan"
      ]
     },
     "execution_count": 13,
     "metadata": {},
     "output_type": "execute_result"
    }
   ],
   "source": [
    "max_freq"
   ]
  },
  {
   "cell_type": "markdown",
   "id": "35d62f9f-1d76-4e96-b817-9734b98ddece",
   "metadata": {},
   "source": [
    "We can now generate the RFI by using the upper and lower bounds of frequency to determine what channel it appears in. We differentiate how we add each source of RFI based off of its `Classification` "
   ]
  },
  {
   "cell_type": "code",
   "execution_count": 14,
   "id": "d30e9c31-de61-4e7a-8b5f-557715b3553d",
   "metadata": {},
   "outputs": [],
   "source": [
    "def calculate_RFI(classifications, amplitude, freq_samples=64, min_freq=1, max_freq=2, min_HA=-1.5, max_HA=1.5,sampling_H=60*3*2):\n",
    "    '''\n",
    "    This function calculates the RFI dataframe\n",
    "    Parameters\n",
    "    ----------\n",
    "    classifications: list\n",
    "        The list of classifications\n",
    "    freq_samples: int\n",
    "        The number of frequency samples\n",
    "    min_freq: float\n",
    "        The minimum frequency in GHz\n",
    "    max_freq: float\n",
    "        The maximum frequency in GHz\n",
    "    min_HA: float\n",
    "        The minimum hour angle in hours\n",
    "    max_HA: float\n",
    "        The maximum hour angle in hours\n",
    "    sampling_H: float\n",
    "        The sampling interval of the hour angle in hours\n",
    "    '''\n",
    "     # create a multidimensional meshgrid of the frequency and hour angle\n",
    "    meshgrid = np.mgrid[min_freq:max_freq:freq_samples*1j,\n",
    "                        min_HA:max_HA:sampling_H*1j]\n",
    "    \n",
    "    freq = meshgrid[0]\n",
    "    HA = meshgrid[1]\n",
    "\n",
    "    # create frequency and hour angle point size\n",
    "    freq_point_size = (max_freq-min_freq)/freq_samples\n",
    "    HA_point_size = (max_HA-min_HA)/sampling_H\n",
    "    \n",
    "\n",
    "    # create an empty RFI array which take the shape of the freq meshgrid\n",
    "    RFI = np.zeros(freq.shape)\n",
    "    point_size_label = np.zeros((freq.shape[0], freq.shape[1], 64))\n",
    "    # print(freq.shape)\n",
    "    \n",
    "    # create an empty RFI array which take the shape of the freq meshgrid\n",
    "    RFI = np.zeros(freq.shape)\n",
    "    point_size_label = np.zeros((freq.shape[0], freq.shape[1], 64))\n",
    "    # print(freq.shape)\n",
    "    \n",
    "    classification = classifications\n",
    "    description = descriptions\n",
    "    amp = amplitude\n",
    "\n",
    "\n",
    "\n",
    "                \n",
    "                \n",
    "    # return print(RFI) "
   ]
  },
  {
   "cell_type": "code",
   "execution_count": 15,
   "id": "43e94f4b",
   "metadata": {},
   "outputs": [
    {
     "ename": "SyntaxError",
     "evalue": "invalid syntax (3447875365.py, line 1)",
     "output_type": "error",
     "traceback": [
      "\u001b[0;36m  File \u001b[0;32m\"/var/folders/r8/hbbztfpn4ns1pgl0687hmwp40000gp/T/ipykernel_70282/3447875365.py\"\u001b[0;36m, line \u001b[0;32m1\u001b[0m\n\u001b[0;31m    def get_max_freq(rfi)\u001b[0m\n\u001b[0m                         ^\u001b[0m\n\u001b[0;31mSyntaxError\u001b[0m\u001b[0;31m:\u001b[0m invalid syntax\n"
     ]
    }
   ],
   "source": [
    "def get_max_freq(rfi)"
   ]
  },
  {
   "cell_type": "code",
   "execution_count": null,
   "id": "ecf2674c",
   "metadata": {},
   "outputs": [],
   "source": [
    "def get_min_freq(freq_range):\n",
    "   '''\n",
    "   This function returns the minimum frequency in the freq_range array\n",
    "   Parameters and maps the values to the classifications\n",
    "   ----------\n",
    "   freq_range: 2D array\n",
    "       The 2D array of the start and end frequencies\n",
    "   classifications: list\n",
    "       The list of classifications\n",
    "   '''\n",
    "   min_freq = np.amin(freq_range, axis=1)\n",
    "   return min_freq"
   ]
  },
  {
   "cell_type": "code",
   "execution_count": null,
   "id": "0e89d0e3",
   "metadata": {},
   "outputs": [],
   "source": [
    "def get_classification(classifications):\n",
    "    '''\n",
    "    This function returns the classification of the current classification\n",
    "    Parameters\n",
    "    ----------\n",
    "    classifications: list\n",
    "        The list of classifications\n",
    "    '''\n",
    "    classification = classifications\n",
    "    return classification\n"
   ]
  },
  {
   "cell_type": "code",
   "execution_count": null,
   "id": "6c5e918c",
   "metadata": {},
   "outputs": [],
   "source": [
    "get_classification(classifications)"
   ]
  },
  {
   "cell_type": "code",
   "execution_count": null,
   "id": "8d2f896e",
   "metadata": {},
   "outputs": [],
   "source": []
  }
 ],
 "metadata": {
  "kernelspec": {
   "display_name": "Python 3 (ipykernel)",
   "language": "python",
   "name": "python3"
  },
  "language_info": {
   "codemirror_mode": {
    "name": "ipython",
    "version": 3
   },
   "file_extension": ".py",
   "mimetype": "text/x-python",
   "name": "python",
   "nbconvert_exporter": "python",
   "pygments_lexer": "ipython3",
   "version": "3.8.2"
  }
 },
 "nbformat": 4,
 "nbformat_minor": 5
}
